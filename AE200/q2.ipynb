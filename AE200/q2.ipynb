{
 "cells": [
  {
   "cell_type": "markdown",
   "id": "d738d5af",
   "metadata": {},
   "source": [
    "# Validate Subsequence 🟢 ⭐\n",
    "\n",
    "Given two non-empty arrays of integers, write a function that determines whether the second array is a subsequence of the first one.\n",
    "\n",
    "A **subsequence** of an array is a set of numbers that aren’t necessarily adjacent in the array but that are in the same order as they appear in the array. For instance, the numbers `[1, 3, 4]` form a subsequence of the array `[1, 2, 3, 4]`, and so do the numbers `[2, 4]`. \n",
    "\n",
    "> **Note:**  \n",
    "> A single number in an array and the array itself are both valid subsequences of the array.\n",
    "\n",
    "---\n",
    "\n",
    "## 📥 Sample Input\n",
    "\n",
    "```python\n",
    "array = [5, 1, 22, 25, 6, -1, 8, 10]\n",
    "sequence = [1, 6, -1, 10]\n",
    "```\n",
    "\n",
    "## 📤 Sample Output\n",
    "\n",
    "\n",
    "```python\n",
    "true\n",
    "```"
   ]
  },
  {
   "cell_type": "code",
   "execution_count": 6,
   "id": "f9f1a26c",
   "metadata": {},
   "outputs": [
    {
     "name": "stdout",
     "output_type": "stream",
     "text": [
      "True\n"
     ]
    }
   ],
   "source": [
    "array = [5, 1, 22, 25, 6, -1, 8, 10]\n",
    "# array = [5, 1, 22, 25, 6, -10, 8, 10]\n",
    "sequence = [1, 6, -1, 10]\n",
    "\n",
    "def isValidSubsequence(array, sequence):\n",
    "\n",
    "    arrayIndex = 0\n",
    "    sequenceIndex = 0\n",
    "\n",
    "    while arrayIndex < len(array) and sequenceIndex < len(sequence):\n",
    "        if sequence[sequenceIndex] == array[arrayIndex]:\n",
    "            sequenceIndex += 1\n",
    "        arrayIndex += 1\n",
    "    \n",
    "    return sequenceIndex == len(sequence)\n",
    "\n",
    "x =  isValidSubsequence(array, sequence)\n",
    "print(x)\n"
   ]
  },
  {
   "cell_type": "markdown",
   "id": "1225a40e",
   "metadata": {},
   "source": [
    "## Space and Time Complexity:\n",
    "\n",
    "- The time complexity is of order O(n).\n",
    "- The space complexity is of order O(1)"
   ]
  },
  {
   "cell_type": "markdown",
   "id": "1feba8b2",
   "metadata": {},
   "source": [
    "## Personal Notes\n",
    "\n",
    "- the two things to learn over here\n",
    "    - it is not always the main data structure to focus in this case \"array\". the key was to run a check on sequence not on array.\n",
    "    - Learning : do not complicate it too much as the algo is implimented as concieved you thought too much about it beforehand.\n",
    "\n",
    "- you were stuck in determining how will i do the validation to return \"True\"or \"False\"\n",
    "- you were unable to come up with ideas that with the help of pointers you can traverse over both array simultanoiusly, keep that in mind for future."
   ]
  },
  {
   "cell_type": "markdown",
   "id": "7a3260f5",
   "metadata": {},
   "source": []
  }
 ],
 "metadata": {
  "kernelspec": {
   "display_name": "algoexp",
   "language": "python",
   "name": "python3"
  },
  "language_info": {
   "codemirror_mode": {
    "name": "ipython",
    "version": 3
   },
   "file_extension": ".py",
   "mimetype": "text/x-python",
   "name": "python",
   "nbconvert_exporter": "python",
   "pygments_lexer": "ipython3",
   "version": "3.11.9"
  }
 },
 "nbformat": 4,
 "nbformat_minor": 5
}

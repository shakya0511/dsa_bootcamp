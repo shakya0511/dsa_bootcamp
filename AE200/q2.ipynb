{
 "cells": [
  {
   "cell_type": "markdown",
   "id": "d738d5af",
   "metadata": {},
   "source": [
    "# Validate Subsequence 🟢 ⭐\n",
    "\n",
    "Given two non-empty arrays of integers, write a function that determines whether the second array is a subsequence of the first one.\n",
    "\n",
    "A **subsequence** of an array is a set of numbers that aren’t necessarily adjacent in the array but that are in the same order as they appear in the array. For instance, the numbers `[1, 3, 4]` form a subsequence of the array `[1, 2, 3, 4]`, and so do the numbers `[2, 4]`. \n",
    "\n",
    "> **Note:**  \n",
    "> A single number in an array and the array itself are both valid subsequences of the array.\n",
    "\n",
    "---\n",
    "\n",
    "## 📥 Sample Input\n",
    "\n",
    "```javascript\n",
    "array = [5, 1, 22, 25, 6, -1, 8, 10]\n",
    "sequence = [1, 6, -1, 10]\n",
    "```\n",
    "\n",
    "## 📤 Sample Output\n",
    "\n",
    "true"
   ]
  },
  {
   "cell_type": "code",
   "execution_count": 23,
   "id": "f9f1a26c",
   "metadata": {},
   "outputs": [
    {
     "name": "stdout",
     "output_type": "stream",
     "text": [
      "True\n"
     ]
    }
   ],
   "source": [
    "# array = [5, 1, 22, 25, 6, -1, 8, 10]\n",
    "array = [5, 1, 22, 25, 6, 10, -1]\n",
    "sequence = [1, 6, -1, 10]\n",
    "\n",
    "def isValidSubsequence(array, sequence):\n",
    "\n",
    "    lastIndex = 0\n",
    "    # currentIndex = 0 #float('inf')\n",
    "    for i in range(0, len(array)):\n",
    "        if array[i] in sequence:\n",
    "            if i < lastIndex:\n",
    "                return False\n",
    "            lastIndex = i\n",
    "\n",
    "    return True    \n",
    "            \n",
    "x = isValidSubsequence(array, sequence)\n",
    "\n",
    "print(x)\n"
   ]
  }
 ],
 "metadata": {
  "kernelspec": {
   "display_name": "algoexp",
   "language": "python",
   "name": "python3"
  },
  "language_info": {
   "codemirror_mode": {
    "name": "ipython",
    "version": 3
   },
   "file_extension": ".py",
   "mimetype": "text/x-python",
   "name": "python",
   "nbconvert_exporter": "python",
   "pygments_lexer": "ipython3",
   "version": "3.11.9"
  }
 },
 "nbformat": 4,
 "nbformat_minor": 5
}

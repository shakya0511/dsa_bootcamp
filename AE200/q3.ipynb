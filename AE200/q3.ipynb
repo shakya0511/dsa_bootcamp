{
 "cells": [
  {
   "cell_type": "markdown",
   "id": "9bb6d377",
   "metadata": {},
   "source": [
    "# Sorted Squared Array 🟢 ⭐\n",
    "\n",
    "Write a function that takes in a non-empty array of integers that are sorted in ascending order and returns a new array of the same length with the squares of the original integers also sorted in ascending order.\n",
    "\n",
    "---\n",
    "\n",
    "## 📥 Sample Input\n",
    "\n",
    "```python\n",
    "array = [1, 2, 3, 5, 6, 8, 9]\n",
    "```\n",
    "\n",
    "## 📤 Sample Output\n",
    "\n",
    "```python\n",
    "[1, 4, 9, 25, 36, 64, 81]\n",
    "```\n"
   ]
  },
  {
   "cell_type": "code",
   "execution_count": null,
   "id": "d3efac98",
   "metadata": {},
   "outputs": [
    {
     "data": {
      "text/plain": [
       "[1, 4, 9, 25, 36, 64, 81]"
      ]
     },
     "execution_count": 24,
     "metadata": {},
     "output_type": "execute_result"
    }
   ],
   "source": [
    "array = [1, 2, 3, 5, 6, 8, 9]\n",
    "\n",
    "def sortedSquaredArray(array):\n",
    "    \n",
    "    leftidx = 0\n",
    "    rightidx = len(array)-1\n",
    "    output_array = [0 for i in range(len(array))]\n",
    "\n",
    "    for idx in reversed(range(len(array))):\n",
    "        \n",
    "        if abs(array[leftidx]) > abs(array[rightidx]):\n",
    "            output_array[idx] = array[leftidx] * array[leftidx]\n",
    "            leftidx += 1\n",
    "\n",
    "        else:\n",
    "            output_array[idx] = array[rightidx] * array[rightidx]\n",
    "            rightidx -= 1\n",
    "\n",
    "    return output_array\n",
    "\n",
    "sortedSquaredArray(array)\n"
   ]
  },
  {
   "cell_type": "code",
   "execution_count": null,
   "id": "951ba773",
   "metadata": {},
   "outputs": [],
   "source": []
  }
 ],
 "metadata": {
  "kernelspec": {
   "display_name": "algoexp",
   "language": "python",
   "name": "python3"
  },
  "language_info": {
   "codemirror_mode": {
    "name": "ipython",
    "version": 3
   },
   "file_extension": ".py",
   "mimetype": "text/x-python",
   "name": "python",
   "nbconvert_exporter": "python",
   "pygments_lexer": "ipython3",
   "version": "3.11.9"
  }
 },
 "nbformat": 4,
 "nbformat_minor": 5
}

{
 "cells": [
  {
   "cell_type": "markdown",
   "id": "9bb6d377",
   "metadata": {},
   "source": [
    "# Sorted Squared Array 🟢 ⭐\n",
    "\n",
    "Write a function that takes in a non-empty array of integers that are sorted in ascending order and returns a new array of the same length with the squares of the original integers also sorted in ascending order.\n",
    "\n",
    "---\n",
    "\n",
    "## 📥 Sample Input\n",
    "\n",
    "```python\n",
    "array = [1, 2, 3, 5, 6, 8, 9]\n",
    "```\n",
    "\n",
    "## 📤 Sample Output\n",
    "\n",
    "```python\n",
    "[1, 4, 9, 25, 36, 64, 81]\n",
    "```\n"
   ]
  },
  {
   "cell_type": "code",
   "execution_count": 3,
   "id": "404f7f15",
   "metadata": {},
   "outputs": [
    {
     "name": "stdout",
     "output_type": "stream",
     "text": [
      "[1, 4, 9, 25, 36, 64, 81]\n"
     ]
    }
   ],
   "source": [
    "\n",
    "array = [1, 2, 3, 5, 6, 8, 9]\n",
    "\n",
    "def sortedSquaredArray(array):\n",
    "    \n",
    "    output_array = []\n",
    "    for i in range(0, len(array)):\n",
    "        sqr = array[i]*array[i]\n",
    "        output_array.append(sqr)\n",
    "    return output_array\n",
    "\n",
    "x = sortedSquaredArray(array)\n",
    "print(x)"
   ]
  }
 ],
 "metadata": {
  "kernelspec": {
   "display_name": "algoexp",
   "language": "python",
   "name": "python3"
  },
  "language_info": {
   "codemirror_mode": {
    "name": "ipython",
    "version": 3
   },
   "file_extension": ".py",
   "mimetype": "text/x-python",
   "name": "python",
   "nbconvert_exporter": "python",
   "pygments_lexer": "ipython3",
   "version": "3.11.9"
  }
 },
 "nbformat": 4,
 "nbformat_minor": 5
}

{
 "cells": [
  {
   "cell_type": "markdown",
   "id": "ea16af8e",
   "metadata": {},
   "source": [
    "# Two Number Sum 🟢 ⭐\n",
    "\n",
    "Write a function that takes in a non-empty array of distinct integers and an integer representing a target sum. If any two numbers in the input array sum up to the target sum, the function should return them in an array, in any order. If no two numbers sum up to the target sum, the function should return an empty array.\n",
    "\n",
    "> **Note:**  \n",
    "> The target sum has to be obtained by summing two different integers in the array; you can't add a single integer to itself in order to obtain the target sum.\n",
    "\n",
    "You can assume that there will be at most one pair of numbers summing up to the target sum.\n",
    "\n",
    "---\n",
    "\n",
    "## 📥 Sample Input\n",
    "\n",
    "```python\n",
    "array = [3, 5, -4, 8, 11, 1, -1, 6]\n",
    "targetSum = 10\n",
    "``` \n",
    "\n",
    "## Sample Output\n",
    "\n",
    "```python\n",
    "[-1, 11]  ## the numbers could be in reverse order\n",
    "```\n"
   ]
  },
  {
   "cell_type": "code",
   "execution_count": 1,
   "id": "8631bf19",
   "metadata": {},
   "outputs": [],
   "source": [
    "array = [3, 5, -4, 8, 11, 1, -1, 6]\n",
    "targetSum = 10"
   ]
  },
  {
   "cell_type": "code",
   "execution_count": 2,
   "id": "86804e51",
   "metadata": {},
   "outputs": [],
   "source": [
    "def twoNumberSum(array, targetSum):\n",
    "    alen = len(array)\n",
    "    targetArray = []\n",
    "    left = 0\n",
    "    right = left+1\n",
    "\n",
    "    while left < alen:\n",
    "        while right < alen:\n",
    "            numSum = array[left]+array[right]\n",
    "            if numSum == targetSum:\n",
    "                targetArray.append(array[left])\n",
    "                targetArray.append(array[right])\n",
    "\n",
    "            right += 1\n",
    "        left += 1\n",
    "        right = left+1\n",
    " \n",
    "    return targetArray\n",
    "\n",
    "twonumsum = twoNumberSum(array, targetSum)"
   ]
  },
  {
   "cell_type": "markdown",
   "id": "85042b33",
   "metadata": {},
   "source": [
    "## Space and Time Complexity:\n",
    "\n",
    "- Time complexity : \n",
    "    - Outer loop: O(n) (left goes from 0 to n)\n",
    "    - Inner loop: Worst case O(n) (right goes from left+1 to n)\n",
    "\n",
    "- Space complexity :\n",
    "    - O(n)"
   ]
  }
 ],
 "metadata": {
  "kernelspec": {
   "display_name": "algoexp",
   "language": "python",
   "name": "python3"
  },
  "language_info": {
   "codemirror_mode": {
    "name": "ipython",
    "version": 3
   },
   "file_extension": ".py",
   "mimetype": "text/x-python",
   "name": "python",
   "nbconvert_exporter": "python",
   "pygments_lexer": "ipython3",
   "version": "3.11.9"
  }
 },
 "nbformat": 4,
 "nbformat_minor": 5
}

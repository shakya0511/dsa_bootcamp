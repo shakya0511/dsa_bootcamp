{
 "cells": [
  {
   "cell_type": "markdown",
   "id": "ea16af8e",
   "metadata": {},
   "source": [
    "# Two Number Sum 🟢 ⭐\n",
    "\n",
    "Write a function that takes in a non-empty array of distinct integers and an integer representing a target sum. If any two numbers in the input array sum up to the target sum, the function should return them in an array, in any order. If no two numbers sum up to the target sum, the function should return an empty array.\n",
    "\n",
    "> **Note:**  \n",
    "> The target sum has to be obtained by summing two different integers in the array; you can't add a single integer to itself in order to obtain the target sum.\n",
    "\n",
    "You can assume that there will be at most one pair of numbers summing up to the target sum.\n",
    "\n",
    "---\n",
    "\n",
    "## 📥 Sample Input\n",
    "\n",
    "```javascript\n",
    "array = [3, 5, -4, 8, 11, 1, -1, 6]\n",
    "targetSum = 10\n",
    "\n",
    "## Sample Output\n",
    "\n",
    "[-1, 11] // the numbers could be in reverse order\n",
    "\n"
   ]
  },
  {
   "cell_type": "code",
   "execution_count": null,
   "id": "8631bf19",
   "metadata": {},
   "outputs": [],
   "source": []
  }
 ],
 "metadata": {
  "kernelspec": {
   "display_name": "algoexp",
   "language": "python",
   "name": "python3"
  },
  "language_info": {
   "codemirror_mode": {
    "name": "ipython",
    "version": 3
   },
   "file_extension": ".py",
   "mimetype": "text/x-python",
   "name": "python",
   "nbconvert_exporter": "python",
   "pygments_lexer": "ipython3",
   "version": "3.11.9"
  }
 },
 "nbformat": 4,
 "nbformat_minor": 5
}

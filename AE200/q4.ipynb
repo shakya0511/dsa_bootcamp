{
 "cells": [
  {
   "cell_type": "markdown",
   "id": "8e190473",
   "metadata": {},
   "source": [
    "# 🏆 Tournament Winner\n",
    "\n",
    "**Difficulty:** Easy  \n",
    "**Category:** Arrays  \n",
    "**Successful Submissions:** 84,991+\n",
    "\n",
    "---\n",
    "\n",
    "There’s an algorithms tournament taking place in which teams of programmers compete against each other to solve algorithmic problems as fast as possible. Teams compete in a round robin, where each team faces off against all other teams. Only two teams compete against each other at a time, and for each competition, one team is designated the home team, while the other team is the away team. In each competition there's always one winner and one loser; there are no ties. A team receives 3 points if it wins and 0 points if it loses. The winner of the tournament is the team that receives the most amount of points.\n",
    "\n",
    "Given an array of pairs representing the teams that have competed against each other and an array containing the results of each competition, write a function that returns the winner of the tournament.\n",
    "\n",
    "The input arrays are named `competitions` and `results`, respectively. The `competitions` array has elements in the form of `[homeTeam, awayTeam]`, where each team is a string of at most 30 characters representing the name of the team.\n",
    "\n",
    "The `results` array contains information about the winner of each corresponding competition in the `competitions` array. Specifically, `results[i]` denotes the winner of `competitions[i]`, where:\n",
    "\n",
    "- `1` → the home team in the corresponding competition won\n",
    "- `0` → the away team won\n",
    "\n",
    "It’s guaranteed that exactly one team will win the tournament and that each team will compete against all other teams exactly once. It’s also guaranteed that the tournament will always have at least two teams.\n",
    "\n",
    "---\n",
    "\n",
    "## 📥 Sample Input\n",
    "\n",
    "```python\n",
    "competitions = [\n",
    "  [\"HTML\", \"C#\"],\n",
    "  [\"C#\", \"Python\"],\n",
    "  [\"Python\", \"HTML\"]\n",
    "]\n",
    "\n",
    "results = [0, 0, 1]\n",
    "```\n",
    "\n",
    "## 📤 Sample Output\n",
    "\n",
    "\n",
    "```python\n",
    "\"Python\"\n",
    "```"
   ]
  },
  {
   "cell_type": "code",
   "execution_count": null,
   "id": "70d4433d",
   "metadata": {},
   "outputs": [
    {
     "data": {
      "text/plain": [
       "'Python'"
      ]
     },
     "execution_count": 11,
     "metadata": {},
     "output_type": "execute_result"
    }
   ],
   "source": [
    "competitions = [\n",
    "  [\"HTML\", \"C#\"],\n",
    "  [\"C#\", \"Python\"],\n",
    "  [\"Python\", \"HTML\"]\n",
    "]\n",
    "\n",
    "results = [0, 0, 1]\n",
    "\n",
    "\n",
    "def tournamentWinner(competitions, results):\n",
    "    # Write your code here.\n",
    "\n",
    "    record = {}\n",
    "\n",
    "    for i in range(len(competitions)):\n",
    "\n",
    "        idx = results[i]\n",
    "\n",
    "        if idx == 1:\n",
    "            winner = competitions[i][0]\n",
    "        else:\n",
    "            winner = competitions[i][1]\n",
    "\n",
    "        if winner in record:\n",
    "            record[winner] += 3\n",
    "        else:\n",
    "            record[winner] = 3\n",
    "    \n",
    "\n",
    "    return max(record.keys())\n",
    "\n",
    "tournamentWinner(competitions, results)"
   ]
  },
  {
   "cell_type": "code",
   "execution_count": null,
   "id": "9e8bc37d",
   "metadata": {},
   "outputs": [],
   "source": []
  }
 ],
 "metadata": {
  "kernelspec": {
   "display_name": "algoexp",
   "language": "python",
   "name": "python3"
  },
  "language_info": {
   "codemirror_mode": {
    "name": "ipython",
    "version": 3
   },
   "file_extension": ".py",
   "mimetype": "text/x-python",
   "name": "python",
   "nbconvert_exporter": "python",
   "pygments_lexer": "ipython3",
   "version": "3.11.9"
  }
 },
 "nbformat": 4,
 "nbformat_minor": 5
}

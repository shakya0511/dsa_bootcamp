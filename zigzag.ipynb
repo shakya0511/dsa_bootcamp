{
 "cells": [
  {
   "cell_type": "code",
   "execution_count": null,
   "metadata": {},
   "outputs": [],
   "source": []
  },
  {
   "cell_type": "code",
   "execution_count": null,
   "metadata": {},
   "outputs": [],
   "source": [
    "def zigzagTraverse(array):\n",
    "    # Write your code here.\n",
    "    height = len(array) - 1\n",
    "    width = len(array[0]) - 1\n",
    "    result = []\n",
    "    downward = True\n",
    "    row, col = 0, 0 \n",
    "\n",
    "    while not isOutOfBound(row, col, height, width):\n",
    "        result.append(array[row][col])\n",
    "        if downward:\n",
    "            if col == 0 or row = height:\n",
    "                downward = False\n",
    "                if row = height:\n",
    "                    col += 1\n",
    "                else:\n",
    "                    row += 1\n",
    "            else:\n",
    "                row += 1\n",
    "                col -= 1\n",
    "        else:\n",
    "            if row == 0 or col == width:\n",
    "                downward = True\n",
    "                if col == width:\n",
    "                    row += 1\n",
    "                else:\n",
    "                    col += 1\n",
    "            else:\n",
    "                row -= 1\n",
    "                col += 1\n",
    "\n",
    "    return result\n",
    "\n",
    "def isOutOfBound():\n",
    "    return row < 0 or row > width or col < 0 or col > height  "
   ]
  },
  {
   "cell_type": "code",
   "execution_count": 2,
   "metadata": {},
   "outputs": [
    {
     "data": {
      "text/plain": [
       "[1, 3, 4, 10]"
      ]
     },
     "execution_count": 2,
     "metadata": {},
     "output_type": "execute_result"
    }
   ],
   "source": [
    "array = [\n",
    "  [1, 3, 4, 10],\n",
    "  [2, 5, 9, 11],\n",
    "  [6, 8, 12, 15],\n",
    "  [7, 13, 14, 16]\n",
    "]\n",
    "\n",
    "array[0]"
   ]
  }
 ],
 "metadata": {
  "kernelspec": {
   "display_name": "algoexp",
   "language": "python",
   "name": "python3"
  },
  "language_info": {
   "codemirror_mode": {
    "name": "ipython",
    "version": 3
   },
   "file_extension": ".py",
   "mimetype": "text/x-python",
   "name": "python",
   "nbconvert_exporter": "python",
   "pygments_lexer": "ipython3",
   "version": "3.11.9"
  }
 },
 "nbformat": 4,
 "nbformat_minor": 2
}

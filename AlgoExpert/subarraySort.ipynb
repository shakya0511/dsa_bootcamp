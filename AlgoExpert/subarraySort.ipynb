{
 "cells": [
  {
   "cell_type": "code",
   "execution_count": null,
   "metadata": {},
   "outputs": [],
   "source": []
  },
  {
   "cell_type": "code",
   "execution_count": 4,
   "metadata": {},
   "outputs": [
    {
     "data": {
      "text/plain": [
       "[3, 9]"
      ]
     },
     "execution_count": 4,
     "metadata": {},
     "output_type": "execute_result"
    }
   ],
   "source": [
    "def subarraySort(array):\n",
    "    # Write your code here.\n",
    "\n",
    "    lastsmallestNum = float('inf')\n",
    "    lastlargestNum = float('-inf')\n",
    "\n",
    "    for idx in range(len(array)):\n",
    "        num = array[idx]\n",
    "        if isoutoforder(idx, num, array):\n",
    "            lastsmallestNum = min(lastsmallestNum, num)\n",
    "            lastlargestNum = max(lastlargestNum, num)\n",
    "    \n",
    "    if lastsmallestNum == float('inf'):\n",
    "        return [-1,-1]\n",
    "\n",
    "    leftidx = 0\n",
    "    rightidx = len(array)-1\n",
    "\n",
    "    while lastsmallestNum >= array[leftidx]:\n",
    "        leftidx += 1\n",
    "    while lastlargestNum <= array[rightidx]:\n",
    "        rightidx -= 1\n",
    "\n",
    "    return [leftidx, rightidx]\n",
    "\n",
    "\n",
    "def isoutoforder(idx,num,array):\n",
    "\n",
    "    if idx == 0:\n",
    "        return num > array[idx+1]\n",
    "    if idx == len(array)-1:\n",
    "        return num < array[idx-1]    \n",
    "    return num > array[idx+1] or num < array[idx-1]  \n",
    "\n",
    "\n",
    "array = [1, 2, 4, 7, 10, 11, 7, 12, 6, 7, 16, 18, 19]\n",
    "subarraySort(array)"
   ]
  }
 ],
 "metadata": {
  "kernelspec": {
   "display_name": "AlgoExpert",
   "language": "python",
   "name": "python3"
  },
  "language_info": {
   "codemirror_mode": {
    "name": "ipython",
    "version": 3
   },
   "file_extension": ".py",
   "mimetype": "text/x-python",
   "name": "python",
   "nbconvert_exporter": "python",
   "pygments_lexer": "ipython3",
   "version": "3.11.9"
  }
 },
 "nbformat": 4,
 "nbformat_minor": 2
}

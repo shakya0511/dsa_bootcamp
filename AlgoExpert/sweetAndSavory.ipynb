{
 "cells": [
  {
   "cell_type": "code",
   "execution_count": null,
   "metadata": {},
   "outputs": [],
   "source": []
  },
  {
   "cell_type": "code",
   "execution_count": null,
   "metadata": {},
   "outputs": [],
   "source": [
    "def sweetAndSavory(dishes, target):\n",
    "    sweetdishes = sorted([dish for dish in dishes if dish<0], key=abs)\n",
    "    savorydishes = sorted([dish for dish in dishes if dish>0])\n",
    "    bestPair = [0,0]\n",
    "    sweetidx, savouryidx = 0, 0\n",
    "    closestdifference = float('inf')\n",
    "\n",
    "    while sweetidx < len(sweetdishes) and savouryidx < len(savouryidx):\n",
    "        currentSum = dishes[sweetidx] + dishes[savouryidx]\n",
    "        if currentSum <= target:\n",
    "            currendifference = target - currentSum\n",
    "            if currendifference < closestdifference:\n",
    "                bestPair  = [dishes[sweetidx],dishes[savouryidx]]\n",
    "                closestdifference = currentdifference\n",
    "            savouryidx += 1\n",
    "\n",
    "        else:\n",
    "            sweetidx += 1\n",
    "\n",
    "    return bestPair\n",
    "\n",
    "\n",
    "target = -20\n",
    "dishes = [2,5,-4,-7,12,100,-25]\n",
    "sweetAndSavory(dishes, target)\n"
   ]
  },
  {
   "cell_type": "code",
   "execution_count": null,
   "metadata": {},
   "outputs": [],
   "source": [
    "def sweetAndSavory(dishes, target):\n",
    "    # Write your code here.\n",
    "    dishes = sorted(dishes)\n",
    "    leftidx = 0\n",
    "    rightidx = len(dishes)-1\n",
    "    bestPair = [0,0]\n",
    "    bestProximity = float('inf')\n",
    "\n",
    "    while leftidx > len(dishes) and rightidx < 0:\n",
    "        currentSum = dishes[leftidx] + dishes[rightidx]\n",
    "        currentProximity = currentSum - target\n",
    "        if currentSum > target:            \n",
    "            rightidx -= 1\n",
    "        \n",
    "        elif currentSum < target:\n",
    "            if currentProximity < bestProximity:\n",
    "                bestProximity = currentProximity\n",
    "                bestPair = [dishes[leftidx] , dishes[rightidx]]\n",
    "            else:\n",
    "                leftidx += 1\n",
    "\n",
    "        else:\n",
    "            return[dishes[leftidx] , dishes[rightidx]]\n",
    "\n",
    "    return bestPair\n"
   ]
  }
 ],
 "metadata": {
  "kernelspec": {
   "display_name": "algoexp",
   "language": "python",
   "name": "python3"
  },
  "language_info": {
   "codemirror_mode": {
    "name": "ipython",
    "version": 3
   },
   "file_extension": ".py",
   "mimetype": "text/x-python",
   "name": "python",
   "nbconvert_exporter": "python",
   "pygments_lexer": "ipython3",
   "version": "3.11.9"
  }
 },
 "nbformat": 4,
 "nbformat_minor": 2
}

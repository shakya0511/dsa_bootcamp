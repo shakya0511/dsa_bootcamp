{
 "cells": [
  {
   "cell_type": "code",
   "execution_count": null,
   "metadata": {},
   "outputs": [],
   "source": []
  },
  {
   "cell_type": "code",
   "execution_count": 12,
   "metadata": {},
   "outputs": [],
   "source": [
    "def commonCharacters(strings):\n",
    "    \n",
    "    char_count = {}\n",
    "    output = []\n",
    "\n",
    "    for string in strings:\n",
    "        unique_char = list(set(string))\n",
    "        for char in unique_char:\n",
    "            if char in char_count:\n",
    "                char_count[char] += 1\n",
    "            else:\n",
    "                char_count[char] = 1\n",
    "\n",
    "    for key in char_count:\n",
    "        if char_count[key] >= len(strings):\n",
    "            output.append(key)\n",
    "\n",
    "    return output \n"
   ]
  },
  {
   "cell_type": "code",
   "execution_count": 13,
   "metadata": {},
   "outputs": [
    {
     "data": {
      "text/plain": [
       "['b', 'c']"
      ]
     },
     "execution_count": 13,
     "metadata": {},
     "output_type": "execute_result"
    }
   ],
   "source": [
    "strings = [\"abc\", \"bcd\", \"cbaccd\"]\n",
    "commonCharacters(strings)"
   ]
  },
  {
   "cell_type": "code",
   "execution_count": 10,
   "metadata": {},
   "outputs": [
    {
     "name": "stdout",
     "output_type": "stream",
     "text": [
      "['b', 'c', 'a']\n",
      "['d', 'b', 'c']\n",
      "['d', 'a', 'b', 'c']\n"
     ]
    }
   ],
   "source": [
    "strings = [\"abc\", \"bcd\", \"cbaccd\"]\n",
    "\n",
    "for string in strings:\n",
    "        unique_char = list(set(string))\n",
    "        print(unique_char)"
   ]
  },
  {
   "cell_type": "code",
   "execution_count": null,
   "metadata": {},
   "outputs": [],
   "source": []
  }
 ],
 "metadata": {
  "kernelspec": {
   "display_name": "algoexp",
   "language": "python",
   "name": "python3"
  },
  "language_info": {
   "codemirror_mode": {
    "name": "ipython",
    "version": 3
   },
   "file_extension": ".py",
   "mimetype": "text/x-python",
   "name": "python",
   "nbconvert_exporter": "python",
   "pygments_lexer": "ipython3",
   "version": "3.11.9"
  }
 },
 "nbformat": 4,
 "nbformat_minor": 2
}

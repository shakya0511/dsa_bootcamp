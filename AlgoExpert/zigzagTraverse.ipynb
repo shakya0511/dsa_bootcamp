{
 "cells": [
  {
   "cell_type": "code",
   "execution_count": null,
   "metadata": {},
   "outputs": [],
   "source": []
  },
  {
   "cell_type": "code",
   "execution_count": null,
   "metadata": {},
   "outputs": [],
   "source": [
    "def zigzagTraverse(array):\n",
    "    # Write your code here.\n",
    "    n = len(array)\n",
    "    m = len(array[0])\n",
    "\n",
    "    for i in range(len(array)):\n",
    "\n",
    "        # come to intial point\n",
    "        if  \n",
    "        # go down\n",
    "        # go daigonal right up\n",
    "        # go right \n",
    "        # go daigonal left down\n",
    "        # go down\n",
    "        # go daigonal right up\n",
    "    pass"
   ]
  }
 ],
 "metadata": {
  "kernelspec": {
   "display_name": "AlgoExpert",
   "language": "python",
   "name": "python3"
  },
  "language_info": {
   "name": "python",
   "version": "3.11.9"
  }
 },
 "nbformat": 4,
 "nbformat_minor": 2
}

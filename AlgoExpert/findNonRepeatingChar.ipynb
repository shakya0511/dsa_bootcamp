{
 "cells": [
  {
   "cell_type": "code",
   "execution_count": null,
   "metadata": {},
   "outputs": [],
   "source": []
  },
  {
   "cell_type": "code",
   "execution_count": 6,
   "metadata": {},
   "outputs": [
    {
     "data": {
      "text/plain": [
       "1"
      ]
     },
     "execution_count": 6,
     "metadata": {},
     "output_type": "execute_result"
    }
   ],
   "source": [
    "strings = \"abcdcaf\"\n",
    "\n",
    "\n",
    "def firstNonRepeatingCharacter(strings):\n",
    "    # Write your code here.\n",
    "\n",
    "    string_count = dict()\n",
    "    for string in strings:\n",
    "        if string in string_count:\n",
    "            string_count[string] += 1\n",
    "        else:\n",
    "            string_count[string] = 1\n",
    "\n",
    "    for string in strings:\n",
    "        if string_count[string] == 1:\n",
    "            return strings.index(string)\n",
    "\n",
    "    return print(-1)\n",
    "\n",
    "firstNonRepeatingCharacter(strings)"
   ]
  }
 ],
 "metadata": {
  "kernelspec": {
   "display_name": "algoexp",
   "language": "python",
   "name": "python3"
  },
  "language_info": {
   "codemirror_mode": {
    "name": "ipython",
    "version": 3
   },
   "file_extension": ".py",
   "mimetype": "text/x-python",
   "name": "python",
   "nbconvert_exporter": "python",
   "pygments_lexer": "ipython3",
   "version": "3.11.9"
  }
 },
 "nbformat": 4,
 "nbformat_minor": 2
}

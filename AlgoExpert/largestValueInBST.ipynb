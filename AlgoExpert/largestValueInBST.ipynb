{
 "cells": [
  {
   "cell_type": "markdown",
   "metadata": {},
   "source": [
    "- aim is to traverse to the Kth largest number of the BST"
   ]
  },
  {
   "cell_type": "code",
   "execution_count": null,
   "metadata": {},
   "outputs": [],
   "source": [
    "# This is an input class. Do not edit.\n",
    "class BST:\n",
    "    def __init__(self, value, left=None, right=None):\n",
    "        self.value = value\n",
    "        self.left = left\n",
    "        self.right = right\n",
    "\n",
    "\n",
    "def findKthLargestValueInBst(tree, k):\n",
    "    # Write your code here.\n",
    "    def helperFunction(node, k):\n",
    "        nodeVisited = 0\n",
    "        lastNodeValue = 0\n",
    "        reversedInOrderArray = []\n",
    " \n",
    "        if node == None or nodeVisited >= k:\n",
    "            return \n",
    "        \n",
    "        helperFunction(node.right, k)\n",
    "        if nodeVisited < k:\n",
    "            nodeVisited += 1\n",
    "            lastNodeValue = node.value\n",
    "            reversedInOrderArray.append(node.value)\n",
    "            helperFunction(node.left, k)        \n",
    "\n",
    "        return lastNodeValue\n"
   ]
  },
  {
   "cell_type": "code",
   "execution_count": null,
   "metadata": {},
   "outputs": [],
   "source": [
    "# This is an input class. Do not edit.\n",
    "class BST:\n",
    "    def __init__(self, value, left=None, right=None):\n",
    "        self.value = value\n",
    "        self.left = left\n",
    "        self.right = right\n",
    "\n",
    "\n",
    "def findKthLargestValueInBst(tree, k):\n",
    "    # Write your code here.\n",
    "    return -1"
   ]
  }
 ],
 "metadata": {
  "kernelspec": {
   "display_name": "algoexp",
   "language": "python",
   "name": "python3"
  },
  "language_info": {
   "codemirror_mode": {
    "name": "ipython",
    "version": 3
   },
   "file_extension": ".py",
   "mimetype": "text/x-python",
   "name": "python",
   "nbconvert_exporter": "python",
   "pygments_lexer": "ipython3",
   "version": "3.11.9"
  }
 },
 "nbformat": 4,
 "nbformat_minor": 2
}

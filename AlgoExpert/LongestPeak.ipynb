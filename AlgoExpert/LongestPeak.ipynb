{
 "cells": [
  {
   "cell_type": "markdown",
   "metadata": {},
   "source": []
  },
  {
   "cell_type": "code",
   "execution_count": 4,
   "metadata": {},
   "outputs": [
    {
     "name": "stdout",
     "output_type": "stream",
     "text": [
      "4   6   2  \n",
      "6   11   4  \n",
      "6\n"
     ]
    }
   ],
   "source": [
    "def longestPeak(array):\n",
    "    # Write your code here.\n",
    "    longestpeaklenVar = 0\n",
    "    idx = 1\n",
    "    while idx < (len(array)-1):\n",
    "        isPeak = array[idx-1] < array[idx] and array[idx] > array[idx+1]\n",
    "        if not isPeak:\n",
    "            idx += 1\n",
    "            continue\n",
    "\n",
    "        leftIdx = idx-2\n",
    "        while leftIdx >= 0 and array[leftIdx] < array[leftIdx+1]:\n",
    "            leftIdx -= 1\n",
    "        rightIdx = idx+2\n",
    "        while rightIdx < len(array) and array[rightIdx] < array[rightIdx-1]:\n",
    "            rightIdx += 1\n",
    "        \n",
    "        currentpeakLen = rightIdx-leftIdx-1\n",
    "        print(idx, \" \", rightIdx, \" \", leftIdx, \" \")\n",
    "        longestPeakLength = max(longestpeaklenVar, currentpeakLen)\n",
    "        idx = rightIdx\n",
    "    return longestPeakLength \n",
    "    \n",
    "arrr = [1,2,3,3,4,0,10,6,5,-1,-3,2,3]\n",
    "print( longestPeak(arrr))\n",
    "        "
   ]
  }
 ],
 "metadata": {
  "kernelspec": {
   "display_name": "pyt16",
   "language": "python",
   "name": "python3"
  },
  "language_info": {
   "codemirror_mode": {
    "name": "ipython",
    "version": 3
   },
   "file_extension": ".py",
   "mimetype": "text/x-python",
   "name": "python",
   "nbconvert_exporter": "python",
   "pygments_lexer": "ipython3",
   "version": "3.11.0"
  }
 },
 "nbformat": 4,
 "nbformat_minor": 2
}

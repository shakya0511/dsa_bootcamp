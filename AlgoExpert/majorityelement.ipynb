{
 "cells": [
  {
   "cell_type": "code",
   "execution_count": null,
   "metadata": {},
   "outputs": [],
   "source": []
  },
  {
   "cell_type": "code",
   "execution_count": null,
   "metadata": {},
   "outputs": [],
   "source": []
  },
  {
   "cell_type": "code",
   "execution_count": 4,
   "metadata": {},
   "outputs": [
    {
     "data": {
      "text/plain": [
       "2"
      ]
     },
     "execution_count": 4,
     "metadata": {},
     "output_type": "execute_result"
    }
   ],
   "source": [
    "def majorityElement(array):\n",
    "    # Write your code here.\n",
    "    countdict = {}\n",
    "    majority = len(array)//2\n",
    "    for num in array:\n",
    "        if num not in countdict:\n",
    "            countdict[num] = 1\n",
    "        else:\n",
    "            countdict[num] += 1\n",
    "            \n",
    "    for key in countdict:\n",
    "        if countdict[key] > majority:\n",
    "            return key\n",
    "    return -1\n",
    "\n",
    "array = [1, 2, 3, 2, 2, 1, 2]\n",
    "majorityElement(array)\n"
   ]
  },
  {
   "cell_type": "code",
   "execution_count": 7,
   "metadata": {},
   "outputs": [
    {
     "data": {
      "text/plain": [
       "2"
      ]
     },
     "execution_count": 7,
     "metadata": {},
     "output_type": "execute_result"
    }
   ],
   "source": [
    "def majorityElement(array):\n",
    "    # Write your code here.\n",
    "    count = 0\n",
    "    answer = None\n",
    "    for num in array:\n",
    "        if count == 0:\n",
    "            answer = num\n",
    "\n",
    "        if num == answer:\n",
    "            count += 1\n",
    "        else:\n",
    "            count -= 1\n",
    "\n",
    "    return answer\n",
    "\n",
    "array = [1, 2, 3, 2, 2, 1, 2]\n",
    "majorityElement(array)"
   ]
  }
 ],
 "metadata": {
  "kernelspec": {
   "display_name": "algoexp",
   "language": "python",
   "name": "python3"
  },
  "language_info": {
   "codemirror_mode": {
    "name": "ipython",
    "version": 3
   },
   "file_extension": ".py",
   "mimetype": "text/x-python",
   "name": "python",
   "nbconvert_exporter": "python",
   "pygments_lexer": "ipython3",
   "version": "3.11.9"
  }
 },
 "nbformat": 4,
 "nbformat_minor": 2
}

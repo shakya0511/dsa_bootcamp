{
 "cells": [
  {
   "cell_type": "code",
   "execution_count": null,
   "metadata": {},
   "outputs": [],
   "source": []
  },
  {
   "cell_type": "code",
   "execution_count": 6,
   "metadata": {},
   "outputs": [
    {
     "ename": "KeyboardInterrupt",
     "evalue": "",
     "output_type": "error",
     "traceback": [
      "\u001b[1;31m---------------------------------------------------------------------------\u001b[0m",
      "\u001b[1;31mKeyboardInterrupt\u001b[0m                         Traceback (most recent call last)",
      "Cell \u001b[1;32mIn[6], line 23\u001b[0m\n\u001b[0;32m     19\u001b[0m     \u001b[38;5;28;01mreturn\u001b[39;00m bestSeat\n\u001b[0;32m     21\u001b[0m seats \u001b[38;5;241m=\u001b[39m [\u001b[38;5;241m1\u001b[39m, \u001b[38;5;241m0\u001b[39m, \u001b[38;5;241m1\u001b[39m]\n\u001b[1;32m---> 23\u001b[0m \u001b[43mbestSeat\u001b[49m\u001b[43m(\u001b[49m\u001b[43mseats\u001b[49m\u001b[43m)\u001b[49m\n",
      "Cell \u001b[1;32mIn[6], line 10\u001b[0m, in \u001b[0;36mbestSeat\u001b[1;34m(seats)\u001b[0m\n\u001b[0;32m      7\u001b[0m \u001b[38;5;28;01mwhile\u001b[39;00m left \u001b[38;5;241m<\u001b[39m \u001b[38;5;28mlen\u001b[39m(seats):\n\u001b[0;32m      8\u001b[0m     right \u001b[38;5;241m=\u001b[39m left \u001b[38;5;241m+\u001b[39m \u001b[38;5;241m1\u001b[39m\n\u001b[1;32m---> 10\u001b[0m     \u001b[38;5;28;01mwhile\u001b[39;00m right \u001b[38;5;241m<\u001b[39m \u001b[38;5;28;43mlen\u001b[39;49m\u001b[43m(\u001b[49m\u001b[43mseats\u001b[49m\u001b[43m)\u001b[49m \u001b[38;5;129;01mand\u001b[39;00m seats[right] \u001b[38;5;241m==\u001b[39m \u001b[38;5;241m0\u001b[39m:\n\u001b[0;32m     11\u001b[0m         right \u001b[38;5;241m+\u001b[39m\u001b[38;5;241m=\u001b[39m \u001b[38;5;241m1\u001b[39m\n\u001b[0;32m     13\u001b[0m         available_space \u001b[38;5;241m=\u001b[39m right \u001b[38;5;241m-\u001b[39m left \u001b[38;5;241m-\u001b[39m\u001b[38;5;241m1\u001b[39m\n",
      "\u001b[1;31mKeyboardInterrupt\u001b[0m: "
     ]
    }
   ],
   "source": [
    "def bestSeat(seats):\n",
    "    # Write your code here.\n",
    "    bestSeat = -1\n",
    "    max_space = 0\n",
    "    left = 0\n",
    "\n",
    "    while left < len(seats):\n",
    "        right = left + 1\n",
    "\n",
    "        while right < len(seats) and seats[right] == 0:\n",
    "            right += 1\n",
    "\n",
    "            available_space = right - left - 1\n",
    "            if available_space > max_space:\n",
    "                bestSeat = (right + left)//2\n",
    "                max_space = available_space\n",
    "\n",
    "            left = right\n",
    "    return bestSeat\n",
    "\n",
    "seats = [1, 0, 1]\n",
    "\n",
    "bestSeat(seats)"
   ]
  }
 ],
 "metadata": {
  "kernelspec": {
   "display_name": "algoexp",
   "language": "python",
   "name": "python3"
  },
  "language_info": {
   "codemirror_mode": {
    "name": "ipython",
    "version": 3
   },
   "file_extension": ".py",
   "mimetype": "text/x-python",
   "name": "python",
   "nbconvert_exporter": "python",
   "pygments_lexer": "ipython3",
   "version": "3.11.9"
  }
 },
 "nbformat": 4,
 "nbformat_minor": 2
}

{
 "cells": [
  {
   "cell_type": "markdown",
   "metadata": {},
   "source": [
    "#### \n",
    "\n",
    "### Write a function that can take a potential valid and invalid BST, it should return a boolean respose True is the BST is valid and False if invalid\n",
    "\n",
    "- "
   ]
  },
  {
   "cell_type": "code",
   "execution_count": null,
   "metadata": {},
   "outputs": [],
   "source": [
    "# This is an input class. Do not edit.\n",
    "class BST:\n",
    "    def __init__(self, value):\n",
    "        self.value = value\n",
    "        self.left = None\n",
    "        self.right = None\n",
    "\n",
    "\n",
    "def validateBst(tree):\n",
    "    # Write your code here.\n",
    "    return validHelper(tree, minval = float(\"-inf\"), maxval=float(\"inf\"))\n",
    "\n",
    "def validHelper(tree, minval, maxval):\n",
    "\n",
    "    if tree in None:\n",
    "        return True\n",
    "    \n",
    "    if tree.value < minval or tree.value >= maxval:\n",
    "        return False\n",
    "    \n",
    "    leftisvalid = validHelper(tree.left, minval, tree.value)\n",
    "    return leftisvalid and validHelper(tree.right, tree.value, maxval)\n"
   ]
  }
 ],
 "metadata": {
  "language_info": {
   "name": "python"
  }
 },
 "nbformat": 4,
 "nbformat_minor": 2
}

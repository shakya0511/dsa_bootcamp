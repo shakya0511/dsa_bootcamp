{
 "cells": [
  {
   "cell_type": "code",
   "execution_count": null,
   "metadata": {},
   "outputs": [],
   "source": []
  },
  {
   "cell_type": "code",
   "execution_count": 5,
   "metadata": {},
   "outputs": [
    {
     "data": {
      "text/plain": [
       "[[[7, 6], [-1, 4]], [[7, 6], [-1, 4]], [[7, 6], [1, 2]], [[7, 6], [1, 2]]]"
      ]
     },
     "execution_count": 5,
     "metadata": {},
     "output_type": "execute_result"
    }
   ],
   "source": [
    "def fourNumberSum(array, targetSum):\n",
    "    # Write your code here.\n",
    "    sum_dict = {}\n",
    "    quadruplets = []\n",
    "       \n",
    "    for rightidx in range(0,len(array)-1):\n",
    "        for leftidx in range(rightidx+1, len(array)):\n",
    "            currentSum = array[leftidx] + array[rightidx]\n",
    "            currentValues = [array[leftidx],array[rightidx]]\n",
    "            difference = targetSum - currentSum\n",
    "            if difference in sum_dict:\n",
    "                if len(sum_dict[difference]) > 1:\n",
    "                    for pair in sum_dict[difference]:\n",
    "                        currentValues = sorted(currentValues)\n",
    "                        if currentValues not in sum_dict[difference]: \n",
    "                            value = [sum_dict[difference], currentValues]\n",
    "                            quadruplets.append(value)\n",
    "\n",
    "        for idx in range(0, rightidx):\n",
    "            currentSum = array[idx] + array[rightidx]\n",
    "            if currentSum not in sum_dict:\n",
    "                sum_dict[currentSum]=[array[idx], array[rightidx]]\n",
    "            else:\n",
    "                sum_dict[currentSum].append([array[idx], array[rightidx]])\n",
    "\n",
    "    return quadruplets\n",
    "\n",
    "array = [7, 6, 4, -1, 1, 2]\n",
    "targetSum = 16\n",
    "fourNumberSum(array, targetSum)"
   ]
  }
 ],
 "metadata": {
  "kernelspec": {
   "display_name": "algoexp",
   "language": "python",
   "name": "python3"
  },
  "language_info": {
   "codemirror_mode": {
    "name": "ipython",
    "version": 3
   },
   "file_extension": ".py",
   "mimetype": "text/x-python",
   "name": "python",
   "nbconvert_exporter": "python",
   "pygments_lexer": "ipython3",
   "version": "3.11.9"
  }
 },
 "nbformat": 4,
 "nbformat_minor": 2
}

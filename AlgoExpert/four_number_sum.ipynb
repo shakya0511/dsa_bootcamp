{
 "cells": [
  {
   "cell_type": "code",
   "execution_count": null,
   "metadata": {},
   "outputs": [],
   "source": []
  },
  {
   "cell_type": "code",
   "execution_count": 37,
   "metadata": {},
   "outputs": [
    {
     "data": {
      "text/plain": [
       "[[5, -5, -2, 2], [5, -5, 3, -3], [-2, 2, 3, -3]]"
      ]
     },
     "execution_count": 37,
     "metadata": {},
     "output_type": "execute_result"
    }
   ],
   "source": [
    "def fourNumberSum(array, targetSum):\n",
    "    # Write your code here.\n",
    "    quaqruplets = []\n",
    "    sum_dict = {}\n",
    "\n",
    "    for rightidx in range(1,len(array)-1):\n",
    "        for leftidx in range(rightidx+1,len(array)):\n",
    "            currentSum = array[rightidx] + array[leftidx]\n",
    "            currentValue = [array[rightidx], array[leftidx]]\n",
    "            difference = targetSum - currentSum\n",
    "            if difference in sum_dict:\n",
    "                pairs = sum_dict[difference]\n",
    "                for pair in pairs:\n",
    "                    quaqruplets.append(pair + currentValue)\n",
    "\n",
    "        for idx in range(0, rightidx):\n",
    "            currentSum = array[idx] + array[rightidx]\n",
    "            currentValue = [array[idx], array[rightidx]]\n",
    "            if currentSum not in sum_dict:\n",
    "                sum_dict[currentSum] = [currentValue]\n",
    "            else:\n",
    "                sum_dict[currentSum].append(currentValue)\n",
    "    \n",
    "    return quaqruplets\n",
    "\n",
    "array = [5, -5, -2, 2, 3, -3]\n",
    "targetSum = 0\n",
    "fourNumberSum(array, targetSum)"
   ]
  }
 ],
 "metadata": {
  "kernelspec": {
   "display_name": "algoexp",
   "language": "python",
   "name": "python3"
  },
  "language_info": {
   "codemirror_mode": {
    "name": "ipython",
    "version": 3
   },
   "file_extension": ".py",
   "mimetype": "text/x-python",
   "name": "python",
   "nbconvert_exporter": "python",
   "pygments_lexer": "ipython3",
   "version": "3.11.9"
  }
 },
 "nbformat": 4,
 "nbformat_minor": 2
}

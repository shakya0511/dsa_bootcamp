{
 "cells": [
  {
   "cell_type": "markdown",
   "metadata": {},
   "source": [
    "- given an array having integers\n",
    "- we have to return array of same size having for product for all other elements excluding the number itself"
   ]
  },
  {
   "cell_type": "code",
   "execution_count": 7,
   "metadata": {},
   "outputs": [],
   "source": [
    "array = [5,1,4,2]"
   ]
  },
  {
   "cell_type": "code",
   "execution_count": 4,
   "metadata": {},
   "outputs": [
    {
     "ename": "AttributeError",
     "evalue": "'list' object has no attribute 'apppend'",
     "output_type": "error",
     "traceback": [
      "\u001b[1;31m---------------------------------------------------------------------------\u001b[0m",
      "\u001b[1;31mAttributeError\u001b[0m                            Traceback (most recent call last)",
      "Cell \u001b[1;32mIn[4], line 28\u001b[0m\n\u001b[0;32m     23\u001b[0m         localIdx \u001b[38;5;241m+\u001b[39m\u001b[38;5;241m=\u001b[39m \u001b[38;5;241m1\u001b[39m\n\u001b[0;32m     25\u001b[0m     \u001b[38;5;28;01mreturn\u001b[39;00m defaultProduct\n\u001b[1;32m---> 28\u001b[0m \u001b[43marrayOfProducts\u001b[49m\u001b[43m(\u001b[49m\u001b[43marray\u001b[49m\u001b[43m)\u001b[49m\n",
      "Cell \u001b[1;32mIn[4], line 10\u001b[0m, in \u001b[0;36marrayOfProducts\u001b[1;34m(array)\u001b[0m\n\u001b[0;32m      8\u001b[0m \u001b[38;5;28;01mfor\u001b[39;00m idx \u001b[38;5;129;01min\u001b[39;00m \u001b[38;5;28mrange\u001b[39m(\u001b[38;5;28mlen\u001b[39m(array)\u001b[38;5;241m-\u001b[39m\u001b[38;5;241m1\u001b[39m):\n\u001b[0;32m      9\u001b[0m     product \u001b[38;5;241m=\u001b[39m ExcludeIdx(array, idx)\n\u001b[1;32m---> 10\u001b[0m     \u001b[43mresult\u001b[49m\u001b[38;5;241;43m.\u001b[39;49m\u001b[43mapppend\u001b[49m(product)\n\u001b[0;32m     12\u001b[0m \u001b[38;5;28;01mreturn\u001b[39;00m result\n",
      "\u001b[1;31mAttributeError\u001b[0m: 'list' object has no attribute 'apppend'"
     ]
    }
   ],
   "source": [
    "array = [5,1,4,2]\n",
    "\n",
    "\n",
    "def arrayOfProducts(array):\n",
    "    # Write your code here.\n",
    "    result = []\n",
    "\n",
    "    for idx in range(len(array)-1):\n",
    "        product = ExcludeIdx(array, idx)\n",
    "        result.append(product)\n",
    "\n",
    "    return result\n",
    "\n",
    "def ExcludeIdx(array, idxignr):\n",
    "\n",
    "    localIdx = 0\n",
    "    defaultProduct = 1\n",
    "    while localIdx < len(array):\n",
    "\n",
    "        if localIdx != idxignr:\n",
    "            defaultProduct *= array[localIdx] \n",
    "\n",
    "        localIdx += 1\n",
    "    \n",
    "    return defaultProduct\n",
    "\n",
    "\n",
    "arrayOfProducts(array)\n"
   ]
  },
  {
   "cell_type": "code",
   "execution_count": null,
   "metadata": {},
   "outputs": [],
   "source": []
  }
 ],
 "metadata": {
  "kernelspec": {
   "display_name": "algoexp",
   "language": "python",
   "name": "python3"
  },
  "language_info": {
   "codemirror_mode": {
    "name": "ipython",
    "version": 3
   },
   "file_extension": ".py",
   "mimetype": "text/x-python",
   "name": "python",
   "nbconvert_exporter": "python",
   "pygments_lexer": "ipython3",
   "version": "3.11.9"
  }
 },
 "nbformat": 4,
 "nbformat_minor": 2
}

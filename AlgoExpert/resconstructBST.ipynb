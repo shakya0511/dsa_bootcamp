{
 "cells": [
  {
   "cell_type": "markdown",
   "metadata": {},
   "source": [
    "- given an array in in-order traverse aim is to re-construct a BST"
   ]
  },
  {
   "cell_type": "code",
   "execution_count": 1,
   "metadata": {},
   "outputs": [],
   "source": [
    "preOrderTraversalValues = [10, 4, 2, 1, 5, 17, 19, 18]"
   ]
  },
  {
   "cell_type": "code",
   "execution_count": 3,
   "metadata": {},
   "outputs": [],
   "source": [
    "# This is an input class. Do not edit.\n",
    "class BST:\n",
    "    def __init__(self, value, left=None, right=None):\n",
    "        self.value = value\n",
    "        self.left = left\n",
    "        self.right = right\n",
    "\n",
    "\n",
    "def reconstructBst(preOrderTraversalValues):\n",
    "    # Write your code here.\n",
    "    leftSubTree = []\n",
    "    rightSubTree = []\n",
    "    root = BST(preOrderTraversalValues[0])\n",
    "\n",
    "    for num in preOrderTraversalValues[1:]:\n",
    "        # make edge cases\n",
    "        if num < root.value:\n",
    "            leftSubTree.append(num)\n",
    "        else:\n",
    "            rightSubTree.append(num)\n",
    "\n",
    "    if leftSubTree:\n",
    "        root.left = reconstructBst(leftSubTree)\n",
    "    if rightSubTree:\n",
    "        root.right = reconstructBst(rightSubTree)\n",
    "    \n",
    "    return root\n",
    "\n",
    "\n",
    "\n"
   ]
  }
 ],
 "metadata": {
  "kernelspec": {
   "display_name": "algoexp",
   "language": "python",
   "name": "python3"
  },
  "language_info": {
   "codemirror_mode": {
    "name": "ipython",
    "version": 3
   },
   "file_extension": ".py",
   "mimetype": "text/x-python",
   "name": "python",
   "nbconvert_exporter": "python",
   "pygments_lexer": "ipython3",
   "version": "3.11.9"
  }
 },
 "nbformat": 4,
 "nbformat_minor": 2
}

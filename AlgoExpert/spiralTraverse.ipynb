{
 "cells": [
  {
   "cell_type": "markdown",
   "metadata": {},
   "source": [
    "\n",
    "- Write a function spiralTraverse that takes in a 2D array (matrix) of integers and returns a list of the integers in spiral order.\n",
    "\n",
    "#### Example\n",
    "\n",
    "array = [\n",
    "    [1, 2, 3, 4],\n",
    "    [5, 6, 7, 8],\n",
    "    [9, 10, 11, 12],\n",
    "    [13, 14, 15, 16]\n",
    "]\n",
    "\n",
    "[1, 2, 3, 4, 8, 12, 16, 15, 14, 13, 9, 5, 6, 7, 11, 10]\n"
   ]
  },
  {
   "cell_type": "code",
   "execution_count": 4,
   "metadata": {},
   "outputs": [],
   "source": [
    "array = [\n",
    "    [1, 2, 3, 4],\n",
    "    [5, 6, 7, 8],\n",
    "    [9, 10, 11, 12],\n",
    "    [13, 14, 15, 16]\n",
    "]"
   ]
  },
  {
   "cell_type": "code",
   "execution_count": null,
   "metadata": {},
   "outputs": [],
   "source": [
    "def spiralTraverse(array):\n",
    "    # Write your code here.\n",
    "    result = []\n",
    "    startRow,endRow = 0, len(array)-1\n",
    "    startCol,endCol = 0, len(array[0])-1\n",
    "\n",
    "    while startRow <= endRow and startCol <= endCol:\n",
    "\n",
    "        for col in range(startCol, endCol+1):\n",
    "            result.append(array[startRow][col])\n",
    "        \n",
    "        for row in range(startRow + 1, endRow + 1):\n",
    "            result.append(array[row][endCol])\n",
    "\n",
    "        if startRow < endRow:\n",
    "            for col in reversed(range(startCol,endCol)):\n",
    "                result.append(array[endRow][col])\n",
    "\n",
    "        if startCol < endCol:\n",
    "            for row in reversed(range(startRow + 1, endRow)):\n",
    "                result.append(array[row][startCol])\n",
    "\n",
    "        startRow += 1\n",
    "        endRow -= 1\n",
    "        startCol += 1\n",
    "        endCol -= 1\n",
    "                                \n",
    "    return result\n"
   ]
  },
  {
   "cell_type": "code",
   "execution_count": 11,
   "metadata": {},
   "outputs": [
    {
     "data": {
      "text/plain": [
       "[1, 2, 3, 4, 8, 12, 16, 15, 14, 13, 9, 5, 6, 7, 11, 10]"
      ]
     },
     "execution_count": 11,
     "metadata": {},
     "output_type": "execute_result"
    }
   ],
   "source": [
    "array = [\n",
    "    [1, 2, 3, 4],\n",
    "    [5, 6, 7, 8],\n",
    "    [9, 10, 11, 12],\n",
    "    [13, 14, 15, 16]\n",
    "]\n",
    "\n",
    "\n",
    "def spiralTraverse(array):\n",
    "    # Write your code here.\n",
    "    sol = []\n",
    "    while array:\n",
    "        sol += array.pop(0)\n",
    "        array = list(zip(*array))[::-1]\n",
    "\n",
    "    return sol \n",
    "\n",
    "\n",
    "spiralTraverse(array)\n"
   ]
  }
 ],
 "metadata": {
  "kernelspec": {
   "display_name": "pyt16",
   "language": "python",
   "name": "python3"
  },
  "language_info": {
   "codemirror_mode": {
    "name": "ipython",
    "version": 3
   },
   "file_extension": ".py",
   "mimetype": "text/x-python",
   "name": "python",
   "nbconvert_exporter": "python",
   "pygments_lexer": "ipython3",
   "version": "3.8.0"
  }
 },
 "nbformat": 4,
 "nbformat_minor": 2
}

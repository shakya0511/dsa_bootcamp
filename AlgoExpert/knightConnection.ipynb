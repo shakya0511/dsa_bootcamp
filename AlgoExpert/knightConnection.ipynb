{
 "cells": [
  {
   "cell_type": "code",
   "execution_count": null,
   "metadata": {},
   "outputs": [],
   "source": []
  },
  {
   "cell_type": "code",
   "execution_count": null,
   "metadata": {},
   "outputs": [],
   "source": [
    "def knightConnection(knightA, knightB):\n",
    "    # Write your code here.\n",
    "    manhattan_dist = abs(knightA[0]-knightB[0])+abs(knightA[1]-knightB[1])\n",
    "    if manhattan_dist > 1:\n",
    "        moves = manhattan_dist / 3\n",
    "        moves_required = moves - 1\n",
    "        return moves_required\n",
    "    return -1\n",
    "\n",
    "knightA =  [0,0]\n",
    "knightB =  [0,0]\n",
    "knightConnection(knightA, knightB)"
   ]
  },
  {
   "cell_type": "code",
   "execution_count": 2,
   "metadata": {},
   "outputs": [
    {
     "data": {
      "text/plain": [
       "4"
      ]
     },
     "execution_count": 2,
     "metadata": {},
     "output_type": "execute_result"
    }
   ],
   "source": []
  }
 ],
 "metadata": {
  "kernelspec": {
   "display_name": "algoexp",
   "language": "python",
   "name": "python3"
  },
  "language_info": {
   "codemirror_mode": {
    "name": "ipython",
    "version": 3
   },
   "file_extension": ".py",
   "mimetype": "text/x-python",
   "name": "python",
   "nbconvert_exporter": "python",
   "pygments_lexer": "ipython3",
   "version": "3.11.9"
  }
 },
 "nbformat": 4,
 "nbformat_minor": 2
}

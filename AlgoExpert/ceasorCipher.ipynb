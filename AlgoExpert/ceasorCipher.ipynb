{
 "cells": [
  {
   "cell_type": "code",
   "execution_count": null,
   "metadata": {},
   "outputs": [],
   "source": [
    "string = \"xyz\"\n",
    "k = 2\n",
    "\n",
    "output = \"zab\""
   ]
  },
  {
   "cell_type": "code",
   "execution_count": 12,
   "metadata": {},
   "outputs": [
    {
     "data": {
      "text/plain": [
       "'zab'"
      ]
     },
     "execution_count": 12,
     "metadata": {},
     "output_type": "execute_result"
    }
   ],
   "source": [
    "def caesarCipherEncryptor(string, key):\n",
    "    # Write your code here.\n",
    "    alphabet = list(\"abcdefghijklmnopqrstuvwxyz\")\n",
    "    output = []\n",
    "\n",
    "    for letter in string:\n",
    "        new_letter = getNewLetter(letter, key, alphabet)\n",
    "        output.append(new_letter)\n",
    "\n",
    "    new_string = \"\".join(output)\n",
    "        \n",
    "    return new_string\n",
    "\n",
    "def getNewLetter(letter, key, alphabet):\n",
    "\n",
    "    newLetterIndex = alphabet.index(letter) + key\n",
    "\n",
    "    if newLetterIndex <= 25:\n",
    "        return alphabet[newLetterIndex]\n",
    "    else:\n",
    "        return alphabet[newLetterIndex % 26]\n",
    "\n",
    "string = \"xyz\"\n",
    "k = 2\n",
    "caesarCipherEncryptor(string,k)"
   ]
  },
  {
   "cell_type": "code",
   "execution_count": 4,
   "metadata": {},
   "outputs": [
    {
     "name": "stdout",
     "output_type": "stream",
     "text": [
      "qbc\n"
     ]
    }
   ],
   "source": [
    "a = ['q','b','c']\n",
    "b = \"\".join(a)\n",
    "print(b)"
   ]
  }
 ],
 "metadata": {
  "kernelspec": {
   "display_name": "algoexp",
   "language": "python",
   "name": "python3"
  },
  "language_info": {
   "codemirror_mode": {
    "name": "ipython",
    "version": 3
   },
   "file_extension": ".py",
   "mimetype": "text/x-python",
   "name": "python",
   "nbconvert_exporter": "python",
   "pygments_lexer": "ipython3",
   "version": "3.11.9"
  }
 },
 "nbformat": 4,
 "nbformat_minor": 2
}

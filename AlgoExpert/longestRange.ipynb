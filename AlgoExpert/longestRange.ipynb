{
 "cells": [
  {
   "cell_type": "code",
   "execution_count": null,
   "metadata": {},
   "outputs": [],
   "source": []
  },
  {
   "cell_type": "code",
   "execution_count": 2,
   "metadata": {},
   "outputs": [],
   "source": [
    "def largestRange(array):\n",
    "    # Write your code here.\n",
    "    lenBestRange = 0\n",
    "    bestRange = []\n",
    "    nums = {} \n",
    "\n",
    "    for num in array:\n",
    "        nums[num] = True\n",
    "    \n",
    "    for num in array:\n",
    "        if not nums[num]:\n",
    "            continue\n",
    "        nums[num] = False\n",
    "        left = num - 1\n",
    "        right = num + 1\n",
    "        currentRangeLength = 1\n",
    "        while left in array:\n",
    "            nums[left] = False\n",
    "            currentRangeLength += 1\n",
    "            left -= 1\n",
    "        \n",
    "        while right in array:\n",
    "            nums[right] = False\n",
    "            currentRangeLength += 1\n",
    "            right += 1\n",
    "\n",
    "        if currentRangeLength > lenBestRange:\n",
    "            lenBestRange = currentRangeLength\n",
    "            bestRange = [left+1, right-1]\n",
    "        \n",
    "    return bestRange\n",
    "\n",
    "\n",
    "\n"
   ]
  }
 ],
 "metadata": {
  "kernelspec": {
   "display_name": "AlgoExpert",
   "language": "python",
   "name": "python3"
  },
  "language_info": {
   "codemirror_mode": {
    "name": "ipython",
    "version": 3
   },
   "file_extension": ".py",
   "mimetype": "text/x-python",
   "name": "python",
   "nbconvert_exporter": "python",
   "pygments_lexer": "ipython3",
   "version": "3.11.9"
  }
 },
 "nbformat": 4,
 "nbformat_minor": 2
}

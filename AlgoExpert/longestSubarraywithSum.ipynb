{
 "cells": [
  {
   "cell_type": "code",
   "execution_count": null,
   "metadata": {},
   "outputs": [],
   "source": []
  },
  {
   "cell_type": "code",
   "execution_count": 24,
   "metadata": {},
   "outputs": [
    {
     "data": {
      "text/plain": [
       "[0, 9]"
      ]
     },
     "execution_count": 24,
     "metadata": {},
     "output_type": "execute_result"
    }
   ],
   "source": [
    "def longestSubarrayWithSum(array, targetSum):\n",
    "    # Write your code here.\n",
    "    subarray_idx = []\n",
    "    bestLenght = float('-inf')\n",
    "    for idx1 in range(len(array)):\n",
    "        for idx2 in range(idx1+1,len(array)):\n",
    "            subarray_sum = sum(array[idx1:idx2+1])\n",
    "            if subarray_sum == targetSum:\n",
    "                if len(array[idx1:idx2+1])>bestLenght:\n",
    "                    subarray_idx.clear()\n",
    "                    subarray_idx.append(idx1)\n",
    "                    subarray_idx.append(idx2)\n",
    "                    bestLenght = len(array[idx1:idx2+1])\n",
    "\n",
    "\n",
    "    return subarray_idx\n",
    "\n",
    "array = [0, 0, 0, 0, 0, 1, 0, 0, 0, 0]\n",
    "targetSum = 1\n",
    "\n",
    "longestSubarrayWithSum(array, targetSum)\n"
   ]
  },
  {
   "cell_type": "code",
   "execution_count": 2,
   "metadata": {},
   "outputs": [
    {
     "data": {
      "text/plain": [
       "[1, 2]"
      ]
     },
     "execution_count": 2,
     "metadata": {},
     "output_type": "execute_result"
    }
   ],
   "source": []
  }
 ],
 "metadata": {
  "kernelspec": {
   "display_name": "algoexp",
   "language": "python",
   "name": "python3"
  },
  "language_info": {
   "codemirror_mode": {
    "name": "ipython",
    "version": 3
   },
   "file_extension": ".py",
   "mimetype": "text/x-python",
   "name": "python",
   "nbconvert_exporter": "python",
   "pygments_lexer": "ipython3",
   "version": "3.11.9"
  }
 },
 "nbformat": 4,
 "nbformat_minor": 2
}

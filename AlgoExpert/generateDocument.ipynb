{
 "cells": [
  {
   "cell_type": "code",
   "execution_count": null,
   "metadata": {},
   "outputs": [],
   "source": []
  },
  {
   "cell_type": "code",
   "execution_count": 51,
   "metadata": {},
   "outputs": [],
   "source": [
    "def generateDocument(characters, document):\n",
    "    if(document == \"\"):\n",
    "        return True\n",
    "\n",
    "    if(len(document) > len(characters)):\n",
    "        return False\n",
    "    # Write your code here.\n",
    "    characters_count = dict()\n",
    "    document_count = dict()\n",
    "    # flag = 0\n",
    "\n",
    "    for char in characters:\n",
    "        if char in characters_count:\n",
    "            characters_count[char] += 1\n",
    "        else:\n",
    "            characters_count[char] = 1\n",
    "    \n",
    "    for doc_char in document:\n",
    "        if doc_char in document_count:\n",
    "            document_count[doc_char] += 1\n",
    "        else:\n",
    "            document_count[doc_char] = 1\n",
    "\n",
    "    if(len(document_count) > len(characters_count)):\n",
    "        return False\n",
    "\n",
    "    for key in document_count:\n",
    "        value1 = document_count[key]\n",
    "        # if value1 > 0 and document_count[key] == 0:\n",
    "            # return False\n",
    "        if key not in characters_count:\n",
    "            return False\n",
    "        value2 = characters_count[key]\n",
    "        if value1 < value2:\n",
    "            return False\n",
    "\n",
    "    return True"
   ]
  },
  {
   "cell_type": "code",
   "execution_count": 53,
   "metadata": {},
   "outputs": [
    {
     "data": {
      "text/plain": [
       "False"
      ]
     },
     "execution_count": 53,
     "metadata": {},
     "output_type": "execute_result"
    }
   ],
   "source": [
    "characters: \"a hsgalhsa sanbjksbdkjba kjx\"\n",
    "document: \"\"\n",
    "\n",
    "\n",
    "generateDocument(characters, document)"
   ]
  },
  {
   "cell_type": "code",
   "execution_count": 45,
   "metadata": {},
   "outputs": [
    {
     "data": {
      "text/plain": [
       "0"
      ]
     },
     "execution_count": 45,
     "metadata": {},
     "output_type": "execute_result"
    }
   ],
   "source": [
    "a = \"\"\n",
    "\n",
    "len(a)"
   ]
  },
  {
   "cell_type": "code",
   "execution_count": 57,
   "metadata": {},
   "outputs": [
    {
     "name": "stdout",
     "output_type": "stream",
     "text": [
      "{'B': 1, 's': 2, 't': 3, 'e': 3, '!': 1, 'h': 1, 'i': 1, ' ': 3, 'o': 1, 'g': 1, 'E': 1, 'A': 1, 'x': 2, 'p': 1, 'l': 1, 'r': 1}\n",
      "{'A': 1, 'l': 1, 'g': 1, 'o': 1, 'E': 1, 'x': 1, 'p': 1, 'e': 3, 'r': 1, 't': 3, ' ': 3, 'i': 1, 's': 2, 'h': 1, 'B': 1, 'q': 1, '!': 1}\n"
     ]
    },
    {
     "data": {
      "text/plain": [
       "False"
      ]
     },
     "execution_count": 57,
     "metadata": {},
     "output_type": "execute_result"
    }
   ],
   "source": [
    "def generateDocument(characters, document):\n",
    "    # Write your code here.\n",
    "    characters_count = dict()\n",
    "    document_count = dict()\n",
    "\n",
    "    if len(document) < 1:\n",
    "        return True\n",
    "\n",
    "    if len(characters) < 1:\n",
    "        return False\n",
    "\n",
    "    if len(document) > len(document):\n",
    "        return False\n",
    "\n",
    "    for char in characters:\n",
    "        if char in characters_count:\n",
    "            characters_count[char] += 1\n",
    "        else:\n",
    "            characters_count[char] = 1\n",
    "    \n",
    "    for doc_char in document:\n",
    "        if doc_char in document_count:\n",
    "            document_count[doc_char] += 1\n",
    "        else:\n",
    "            document_count[doc_char] = 1\n",
    "\n",
    "    for key in document_count:\n",
    "        if key not in  characters_count or key in characters_count and document_count[key] > characters_count[key]:\n",
    "            return False\n",
    "    \n",
    "    return True\n",
    "\n",
    "\n",
    "\n",
    "characters: \"a hsgalhsa sanbjksbdkjba kjx\"\n",
    "document: \"fgagfahfsd\"\n",
    "\n",
    "\n",
    "generateDocument(characters, document)"
   ]
  }
 ],
 "metadata": {
  "kernelspec": {
   "display_name": "algoexp",
   "language": "python",
   "name": "python3"
  },
  "language_info": {
   "codemirror_mode": {
    "name": "ipython",
    "version": 3
   },
   "file_extension": ".py",
   "mimetype": "text/x-python",
   "name": "python",
   "nbconvert_exporter": "python",
   "pygments_lexer": "ipython3",
   "version": "3.11.9"
  }
 },
 "nbformat": 4,
 "nbformat_minor": 2
}

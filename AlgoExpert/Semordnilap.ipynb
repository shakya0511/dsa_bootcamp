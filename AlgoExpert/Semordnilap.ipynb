{
 "cells": [
  {
   "cell_type": "code",
   "execution_count": null,
   "metadata": {},
   "outputs": [],
   "source": []
  },
  {
   "cell_type": "code",
   "execution_count": null,
   "metadata": {},
   "outputs": [],
   "source": [
    "\n"
   ]
  },
  {
   "cell_type": "code",
   "execution_count": 11,
   "metadata": {},
   "outputs": [
    {
     "name": "stdout",
     "output_type": "stream",
     "text": [
      "[['dog', 'god'], ['desserts', 'stressed']]\n"
     ]
    }
   ],
   "source": [
    "def semordnilap(words):\n",
    "    # Write your code here.\n",
    "    output = []\n",
    "    leftidx = 0 \n",
    "    rightidx = (len(words)-1)\n",
    "\n",
    "    # while leftidx < (len(words)-1) and rightidx > -1:\n",
    "    while leftidx < (len(words)):\n",
    "        if leftidx < rightidx:\n",
    "            leftString = words[leftidx]\n",
    "            rightstring = words[rightidx]\n",
    "            rightStringReversed = reverseString(words[rightidx])\n",
    "\n",
    "            if leftString != rightStringReversed:\n",
    "                rightidx -= 1\n",
    "            else:\n",
    "                output.append([leftString, rightstring])\n",
    "                leftidx += 1\n",
    "                rightidx = (len(words)-1)\n",
    "        else:\n",
    "            leftidx += 1\n",
    "            rightidx = (len(words)-1)\n",
    "\n",
    "\n",
    "            \n",
    "    return print(output)\n",
    "\n",
    "\n",
    "def reverseString(string):\n",
    "\n",
    "    sampleList = []\n",
    "\n",
    "    for char in reversed(string):\n",
    "        sampleList.append(char)\n",
    "\n",
    "    return \"\".join(sampleList)\n",
    "\n",
    "words  = [\"dog\", \"hello\", \"desserts\", \"test\", \"god\", \"stressed\"]\n",
    "semordnilap(words)"
   ]
  }
 ],
 "metadata": {
  "kernelspec": {
   "display_name": "algoexp",
   "language": "python",
   "name": "python3"
  },
  "language_info": {
   "codemirror_mode": {
    "name": "ipython",
    "version": 3
   },
   "file_extension": ".py",
   "mimetype": "text/x-python",
   "name": "python",
   "nbconvert_exporter": "python",
   "pygments_lexer": "ipython3",
   "version": "3.11.9"
  }
 },
 "nbformat": 4,
 "nbformat_minor": 2
}

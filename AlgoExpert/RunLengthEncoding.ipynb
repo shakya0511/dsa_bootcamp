{
 "cells": [
  {
   "cell_type": "code",
   "execution_count": null,
   "metadata": {},
   "outputs": [],
   "source": []
  },
  {
   "cell_type": "code",
   "execution_count": 10,
   "metadata": {},
   "outputs": [],
   "source": [
    "def runLengthEncoding(string):\n",
    "    # Write your code here.\n",
    "    EncodedString = []\n",
    "    valueCount = 1\n",
    "\n",
    "    for idx in range(1,len(string)):\n",
    "        currentCharacter = string[idx]\n",
    "        previousCharacter = string[idx-1]\n",
    "\n",
    "        if currentCharacter != previousCharacter or valueCount == 9:\n",
    "            EncodedString.append(str(valueCount))\n",
    "            EncodedString.append(previousCharacter)\n",
    "            valueCount = 0\n",
    "        \n",
    "        valueCount += 1\n",
    "    EncodedString.append(str(valueCount))\n",
    "    EncodedString.append(string[len(string)-1])\n",
    "\n",
    "    return \"\".join(EncodedString)\n",
    "\n"
   ]
  },
  {
   "cell_type": "code",
   "execution_count": 11,
   "metadata": {},
   "outputs": [
    {
     "data": {
      "text/plain": [
       "'9A4A2B4C2D'"
      ]
     },
     "execution_count": 11,
     "metadata": {},
     "output_type": "execute_result"
    }
   ],
   "source": [
    "string = \"AAAAAAAAAAAAABBCCCCDD\"\n",
    "\n",
    "runLengthEncoding(string)"
   ]
  }
 ],
 "metadata": {
  "kernelspec": {
   "display_name": "algoexp",
   "language": "python",
   "name": "python3"
  },
  "language_info": {
   "codemirror_mode": {
    "name": "ipython",
    "version": 3
   },
   "file_extension": ".py",
   "mimetype": "text/x-python",
   "name": "python",
   "nbconvert_exporter": "python",
   "pygments_lexer": "ipython3",
   "version": "3.11.9"
  }
 },
 "nbformat": 4,
 "nbformat_minor": 2
}

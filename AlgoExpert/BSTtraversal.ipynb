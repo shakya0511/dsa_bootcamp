{
 "cells": [
  {
   "cell_type": "markdown",
   "metadata": {},
   "source": []
  },
  {
   "cell_type": "code",
   "execution_count": 1,
   "metadata": {},
   "outputs": [],
   "source": [
    "tree = {\n",
    "  \"nodes\": [\n",
    "    {\"id\": \"10\", \"left\": \"5\", \"right\": \"15\", \"value\": 10},\n",
    "    {\"id\": \"15\", \"left\": None, \"right\": \"22\", \"value\": 15},\n",
    "    {\"id\": \"22\", \"left\": None, \"right\": None, \"value\": 22},\n",
    "    {\"id\": \"5\", \"left\": \"2\", \"right\": \"5-2\", \"value\": 5},\n",
    "    {\"id\": \"5-2\", \"left\": None, \"right\": None, \"value\": 5},\n",
    "    {\"id\": \"2\", \"left\": \"1\", \"right\": None, \"value\": 2},\n",
    "    {\"id\": \"1\", \"left\": None, \"right\": None, \"value\": 1}\n",
    "  ],\n",
    "  \"root\": \"10\"\n",
    "}\n",
    "\n"
   ]
  },
  {
   "cell_type": "code",
   "execution_count": 2,
   "metadata": {},
   "outputs": [],
   "source": [
    "array = []"
   ]
  },
  {
   "cell_type": "code",
   "execution_count": 5,
   "metadata": {},
   "outputs": [],
   "source": [
    "def inOrderTraverse(tree, array):\n",
    "    # Write your code here.\n",
    "    if tree is not None:\n",
    "        inOrderTraverse(tree.left, array)\n",
    "        array.append(tree.value)\n",
    "        inOrderTraverse(tree.right, array)\n",
    "    return array\n",
    "\n",
    "\n",
    "def preOrderTraverse(tree, array):\n",
    "    # Write your code here.\n",
    "    if tree is not None:\n",
    "        array.append(tree.value)\n",
    "        preOrderTraverse(tree.left, array)\n",
    "        preOrderTraverse(tree.right, array)\n",
    "    return array\n",
    "\n",
    "\n",
    "def postOrderTraverse(tree, array):\n",
    "    # Write your code here.\n",
    "    if tree is not None:\n",
    "        postOrderTraverse(tree.left, array)\n",
    "        preOrderTraverse(tree.right, array)\n",
    "        array.append(tree.value)\n",
    "    return array\n",
    "        \n",
    "\n",
    "\n"
   ]
  },
  {
   "cell_type": "code",
   "execution_count": 7,
   "metadata": {},
   "outputs": [
    {
     "ename": "AttributeError",
     "evalue": "'dict' object has no attribute 'left'",
     "output_type": "error",
     "traceback": [
      "\u001b[1;31m---------------------------------------------------------------------------\u001b[0m",
      "\u001b[1;31mAttributeError\u001b[0m                            Traceback (most recent call last)",
      "Cell \u001b[1;32mIn[7], line 1\u001b[0m\n\u001b[1;32m----> 1\u001b[0m \u001b[43minOrderTraverse\u001b[49m\u001b[43m(\u001b[49m\u001b[43mtree\u001b[49m\u001b[43m,\u001b[49m\u001b[43m \u001b[49m\u001b[43marray\u001b[49m\u001b[43m)\u001b[49m\n\u001b[0;32m      2\u001b[0m preOrderTraverse(tree, array)\n\u001b[0;32m      3\u001b[0m postOrderTraverse(tree, array)\n",
      "Cell \u001b[1;32mIn[5], line 4\u001b[0m, in \u001b[0;36minOrderTraverse\u001b[1;34m(tree, array)\u001b[0m\n\u001b[0;32m      1\u001b[0m \u001b[38;5;28;01mdef\u001b[39;00m \u001b[38;5;21minOrderTraverse\u001b[39m(tree, array):\n\u001b[0;32m      2\u001b[0m     \u001b[38;5;66;03m# Write your code here.\u001b[39;00m\n\u001b[0;32m      3\u001b[0m     \u001b[38;5;28;01mif\u001b[39;00m tree \u001b[38;5;129;01mis\u001b[39;00m \u001b[38;5;129;01mnot\u001b[39;00m \u001b[38;5;28;01mNone\u001b[39;00m:\n\u001b[1;32m----> 4\u001b[0m         inOrderTraverse(\u001b[43mtree\u001b[49m\u001b[38;5;241;43m.\u001b[39;49m\u001b[43mleft\u001b[49m, array)\n\u001b[0;32m      5\u001b[0m         array\u001b[38;5;241m.\u001b[39mappend(tree\u001b[38;5;241m.\u001b[39mvalue)\n\u001b[0;32m      6\u001b[0m         inOrderTraverse(tree\u001b[38;5;241m.\u001b[39mright, array)\n",
      "\u001b[1;31mAttributeError\u001b[0m: 'dict' object has no attribute 'left'"
     ]
    }
   ],
   "source": [
    "inOrderTraverse(tree, array)\n",
    "preOrderTraverse(tree, array)\n",
    "postOrderTraverse(tree, array)"
   ]
  }
 ],
 "metadata": {
  "kernelspec": {
   "display_name": "pyt16",
   "language": "python",
   "name": "python3"
  },
  "language_info": {
   "codemirror_mode": {
    "name": "ipython",
    "version": 3
   },
   "file_extension": ".py",
   "mimetype": "text/x-python",
   "name": "python",
   "nbconvert_exporter": "python",
   "pygments_lexer": "ipython3",
   "version": "3.8.0"
  }
 },
 "nbformat": 4,
 "nbformat_minor": 2
}

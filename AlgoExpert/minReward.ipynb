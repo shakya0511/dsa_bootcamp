{
 "cells": [
  {
   "cell_type": "code",
   "execution_count": null,
   "metadata": {},
   "outputs": [],
   "source": []
  },
  {
   "cell_type": "code",
   "execution_count": 7,
   "metadata": {},
   "outputs": [
    {
     "data": {
      "text/plain": [
       "25"
      ]
     },
     "execution_count": 7,
     "metadata": {},
     "output_type": "execute_result"
    }
   ],
   "source": [
    "# solution 1\n",
    "\n",
    "def minRewards(scores):\n",
    "    # Write your code here.\n",
    "    rewards = [1 for _ in scores]\n",
    "    localMinimas = getLocalMinimaidx(scores)\n",
    "    for minimaIdx in localMinimas:\n",
    "        expandAlongMinima(minimaIdx, scores, rewards)\n",
    "    return sum(rewards)\n",
    "\n",
    "def getLocalMinimaidx(array):\n",
    "    if len(array)==1:\n",
    "        return [0]\n",
    "    localMimimaIdxList = []\n",
    "\n",
    "    for i in range(len(array)):\n",
    "        if i == 0 and array[i] < array[i+1]:\n",
    "            localMimimaIdxList.append(i)\n",
    "        if i == len(array)-1 and array[i] < array[i-1]:\n",
    "            localMimimaIdxList.append(i)\n",
    "        if i == 0 or i == len(array)-1:\n",
    "            continue\n",
    "        if array[i] < array[i+1] and array[i] < array[i-1]:\n",
    "            localMimimaIdxList.append(i)\n",
    "\n",
    "    return localMimimaIdxList\n",
    "\n",
    "def expandAlongMinima(minimaIdx, scores, rewards):\n",
    "\n",
    "    leftidx = minimaIdx-1\n",
    "    rightidx = minimaIdx+1\n",
    "\n",
    "    while leftidx >= 0 and scores[leftidx] > scores[leftidx+1]:\n",
    "        rewards[leftidx] = max(rewards[leftidx], rewards[leftidx+1]+1)\n",
    "        leftidx -= 1\n",
    "\n",
    "    while rightidx < len(scores) and scores[rightidx] > scores[rightidx-1]:\n",
    "        rewards[rightidx] = rewards[rightidx-1]+1\n",
    "        rightidx += 1\n"
   ]
  },
  {
   "cell_type": "code",
   "execution_count": 12,
   "metadata": {},
   "outputs": [
    {
     "data": {
      "text/plain": [
       "25"
      ]
     },
     "execution_count": 12,
     "metadata": {},
     "output_type": "execute_result"
    }
   ],
   "source": [
    "# solution 2 \n",
    "\n",
    "def minRewards(scores):\n",
    "    # Write your code here.\n",
    "    rewards = [1 for _ in scores]\n",
    "    for i in range(1, len(scores)):\n",
    "        if scores[i] > scores[i-1]:\n",
    "            rewards[i] = rewards[i-1]+1\n",
    "    for i in reversed(range(len(scores)-1)):\n",
    "        if scores[i] > scores[i+1]:\n",
    "            rewards[i] = max(rewards[i], rewards[i+1]+1)\n",
    "\n",
    "    return sum(rewards)\n",
    "\n",
    "scores = [8, 4, 2, 1, 3, 6, 7, 9, 5]\n",
    "minRewards(scores)"
   ]
  }
 ],
 "metadata": {
  "kernelspec": {
   "display_name": "AlgoExpert",
   "language": "python",
   "name": "python3"
  },
  "language_info": {
   "codemirror_mode": {
    "name": "ipython",
    "version": 3
   },
   "file_extension": ".py",
   "mimetype": "text/x-python",
   "name": "python",
   "nbconvert_exporter": "python",
   "pygments_lexer": "ipython3",
   "version": "3.11.9"
  }
 },
 "nbformat": 4,
 "nbformat_minor": 2
}

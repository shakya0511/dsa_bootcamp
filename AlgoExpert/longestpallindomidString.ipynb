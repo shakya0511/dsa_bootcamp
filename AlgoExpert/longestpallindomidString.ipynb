{
 "cells": [
  {
   "cell_type": "code",
   "execution_count": null,
   "metadata": {},
   "outputs": [],
   "source": []
  },
  {
   "cell_type": "code",
   "execution_count": 12,
   "metadata": {},
   "outputs": [
    {
     "data": {
      "text/plain": [
       "'noon'"
      ]
     },
     "execution_count": 12,
     "metadata": {},
     "output_type": "execute_result"
    }
   ],
   "source": [
    "def longestPalindromicSubstring(string):\n",
    "\n",
    "    longest_pallindrome = ''\n",
    "    if len(string) == 0:\n",
    "        return \n",
    "    if len(string) == 1:\n",
    "        return string\n",
    "\n",
    "    for idx in range(len(string)):\n",
    "        for idy in range(idx+1, len(string)+1):\n",
    "            current_str = string[idx:idy]\n",
    "            rev_current_str = ''.join(reversed(current_str))\n",
    "            best_len = len(longest_pallindrome)\n",
    "            current_len = len(current_str)\n",
    "            if current_str == rev_current_str:\n",
    "                if current_len > best_len:\n",
    "                    longest_pallindrome = current_str\n",
    "\n",
    "    return longest_pallindrome\n",
    "\n",
    "string = \"it's highnoon\"\n",
    "longestPalindromicSubstring(string)"
   ]
  },
  {
   "cell_type": "code",
   "execution_count": 4,
   "metadata": {},
   "outputs": [
    {
     "data": {
      "text/plain": [
       "5"
      ]
     },
     "execution_count": 4,
     "metadata": {},
     "output_type": "execute_result"
    }
   ],
   "source": [
    "x = \"hello\"\n",
    "len(x)"
   ]
  }
 ],
 "metadata": {
  "kernelspec": {
   "display_name": "algoexp",
   "language": "python",
   "name": "python3"
  },
  "language_info": {
   "codemirror_mode": {
    "name": "ipython",
    "version": 3
   },
   "file_extension": ".py",
   "mimetype": "text/x-python",
   "name": "python",
   "nbconvert_exporter": "python",
   "pygments_lexer": "ipython3",
   "version": "3.11.9"
  }
 },
 "nbformat": 4,
 "nbformat_minor": 2
}

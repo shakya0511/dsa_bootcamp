{
 "cells": [
  {
   "cell_type": "code",
   "execution_count": null,
   "metadata": {},
   "outputs": [],
   "source": []
  },
  {
   "cell_type": "code",
   "execution_count": 23,
   "metadata": {},
   "outputs": [
    {
     "data": {
      "text/plain": [
       "[3, 9]"
      ]
     },
     "execution_count": 23,
     "metadata": {},
     "output_type": "execute_result"
    }
   ],
   "source": [
    "def subarraySort(array):\n",
    "    # Write your code here.\n",
    "\n",
    "    lastsmallestidx = float('inf')\n",
    "    lastlargestidx = float('-inf')\n",
    "\n",
    "    for idx in range(len(array)):\n",
    "        \n",
    "\n",
    "        pass\n",
    "\n",
    "\n",
    "array = [1, 2, 4, 7, 10, 11, 7, 12, 6, 7, 16, 18, 19]\n",
    "subarraySort(array)"
   ]
  }
 ],
 "metadata": {
  "kernelspec": {
   "display_name": "AlgoExpert",
   "language": "python",
   "name": "python3"
  },
  "language_info": {
   "codemirror_mode": {
    "name": "ipython",
    "version": 3
   },
   "file_extension": ".py",
   "mimetype": "text/x-python",
   "name": "python",
   "nbconvert_exporter": "python",
   "pygments_lexer": "ipython3",
   "version": "3.11.9"
  }
 },
 "nbformat": 4,
 "nbformat_minor": 2
}
